{
 "cells": [
  {
   "cell_type": "markdown",
   "metadata": {},
   "source": [
    " # MTH8408 : Méthodes d'optimisation et contrôle optimal\n",
    " ## Laboratoire 6: Optimisation avec contraintes et contrôle optimal\n",
    "Tangi Migot, Dominique Orban et Paul Raynaud"
   ]
  },
  {
   "cell_type": "markdown",
   "metadata": {},
   "source": [
    "Dans ce lab, on va utiliser le module [OptimalControl.jl](https://github.com/control-toolbox/OptimalControl.jl) afin de modéliser les problèmes de contrôle optimal.\n",
    "L'installation de ce module nécessite la commande suivante:"
   ]
  },
  {
   "cell_type": "code",
   "execution_count": null,
   "metadata": {},
   "outputs": [],
   "source": [
    "using Pkg\n",
    "Pkg.Registry.add(RegistrySpec(url = \"https://github.com/control-toolbox/ct-registry.git\"))"
   ]
  },
  {
   "cell_type": "markdown",
   "metadata": {},
   "source": [
    "L'installation des modules peut-être assez longue, profitez-en pour lire la [documentation de OptimalControl.jl](https://control-toolbox.org/OptimalControl.jl/stable/index.html)."
   ]
  },
  {
   "cell_type": "markdown",
   "metadata": {},
   "source": [
    "De plus, nous allons utiliser une version en cours de développement de CTDirect, qui est une dépendance de OptimalControl.jl.\n",
    "Cette version contient une fonctionnalité permettant la création d'un ADNLPModel à partir du problème de contrôle discretisé.\n",
    "Pour installer la version développée dans la branche `export` du module CTDirect.jl, il faut utiliser l'instruction suivante :"
   ]
  },
  {
   "cell_type": "code",
   "execution_count": null,
   "metadata": {},
   "outputs": [],
   "source": [
    "Pkg.add(url=\"https://github.com/control-toolbox/CTDirect.jl.git#export\")"
   ]
  },
  {
   "cell_type": "code",
   "execution_count": null,
   "metadata": {},
   "outputs": [],
   "source": [
    "Pkg.add([\"OptimalControl\", \"ADNLPModels\", \"NLPModels\", \"Percival\", \"Plots\"]) # les autres modules nécessaires au laboratoire"
   ]
  },
  {
   "cell_type": "markdown",
   "metadata": {},
   "source": [
    "Si jamais votre installation de `OptimalControl` échoue, mettez à jour julia:\n",
    "```julia\n",
    "using UpdateJulia # à ajouter au préalable\n",
    "update_julia() # puis on redémarre VS Code\n",
    "```"
   ]
  },
  {
   "cell_type": "markdown",
   "metadata": {},
   "source": [
    "## Exercice 1: Commande optimale"
   ]
  },
  {
   "cell_type": "markdown",
   "metadata": {},
   "source": [
    "Dans cet exercice, on considère le problème de gestion de portefeuille vu en cours:\n",
    "$$\n",
    "\\max_{x,u} \\int_0^T (1-u(t))x(t) dt, \\quad x(0)=x_0, \\dot{x}(t) = \\gamma u(t) x(t), \\quad 0 \\leq u(t) \\leq 1\n",
    "$$\n",
    "modélisé à l'aide de `OptimalControl.jl`.\n",
    "Compléter les `...` en vous inspirant du [tutoriel de OptimalControl.jl](https://control-toolbox.org/OptimalControl.jl/stable/tutorial-goddard.html).\n",
    "On suppose `n = 100`, `T = 1`, `γ = 3` et `x0 = 0.1`."
   ]
  },
  {
   "cell_type": "code",
   "execution_count": null,
   "metadata": {},
   "outputs": [],
   "source": [
    "T = ...\n",
    "γ = ...\n",
    "x0 = ...\n",
    "\n",
    "@def ocp begin\n",
    "  tf ∈ R, variable\n",
    "  t ∈ [ 0, ... ], time\n",
    "  x ...\n",
    "  u ...\n",
    "  ... ≤ u(t) ≤ ...\n",
    "  \n",
    "  x(0) == ...\n",
    "  ẋ(t) == ... # \n",
    "\n",
    "  ∫(...) → ...\n",
    "end\n",
    "\n",
    "n = ...\n",
    "docp = DirectTranscription(ocp, grid_size=n) "
   ]
  },
  {
   "cell_type": "markdown",
   "metadata": {},
   "source": [
    "### Question 1: Résoudre et affichage\n",
    "Lire la documentation de OptimalControl.jl et résoudre le problème discretisé `docp`."
   ]
  },
  {
   "cell_type": "code",
   "execution_count": null,
   "metadata": {},
   "outputs": [],
   "source": [
    "sol = ...(docp) # résout le problème via Ipopt"
   ]
  },
  {
   "cell_type": "markdown",
   "metadata": {},
   "source": [
    "À partir de la documentation, affichez `u` et `x` (en autres)."
   ]
  },
  {
   "cell_type": "code",
   "execution_count": null,
   "metadata": {},
   "outputs": [],
   "source": [
    "fig = ...(sol)"
   ]
  },
  {
   "cell_type": "markdown",
   "metadata": {},
   "source": [
    "La figure peut-être enregistrée avec la fonction:"
   ]
  },
  {
   "cell_type": "code",
   "execution_count": null,
   "metadata": {},
   "outputs": [],
   "source": [
    "using Plots\n",
    "savefig(fig, \"Mon-nom-de-fichier.pdf\")"
   ]
  },
  {
   "cell_type": "markdown",
   "metadata": {},
   "source": [
    "Donner une interprétation des résultats obtenus."
   ]
  },
  {
   "cell_type": "markdown",
   "metadata": {},
   "source": [
    "### Conversion en un ADNLPModel"
   ]
  },
  {
   "cell_type": "markdown",
   "metadata": {},
   "source": [
    "On peut obtenir un ADNLPModel à partir de `docp`."
   ]
  },
  {
   "cell_type": "code",
   "execution_count": null,
   "metadata": {},
   "outputs": [],
   "source": [
    "nlp = getNLP(docp) # récupère le problème discretisé sous forme d'un ADNLPModel"
   ]
  },
  {
   "cell_type": "markdown",
   "metadata": {},
   "source": [
    "Pour minimiser le `nlp` modèle (contraint) extrait, on peut utiliser le solver de [Percival.jl](https://github.com/JuliaSmoothOptimizers/Percival.jl). "
   ]
  },
  {
   "cell_type": "code",
   "execution_count": null,
   "metadata": {},
   "outputs": [],
   "source": [
    "ges = percival(nlp, verbose = 0) # modifier verbose=1 pour obtenir un affichage des itérations\n",
    "@test :first_order == stats.status"
   ]
  },
  {
   "cell_type": "markdown",
   "metadata": {},
   "source": [
    "Pour afficher `x` et `u`, il est cependant plus simple de réutiliser les fonctionnalités de CTDirect.jl:"
   ]
  },
  {
   "cell_type": "code",
   "execution_count": null,
   "metadata": {},
   "outputs": [],
   "source": [
    "sol = CTDirect._OptimalControlSolution(ges, docp)\n",
    "fig = plot(sol)"
   ]
  },
  {
   "cell_type": "markdown",
   "metadata": {},
   "source": [
    "Ce n'est pas une erreur de votre implémentation si les états adjoints `p` sont inversés."
   ]
  },
  {
   "cell_type": "markdown",
   "metadata": {},
   "source": [
    "### Question 2: Bang-bang\n",
    "A quelle instant `t` se situe le changement de trajectoire?\n",
    "\n",
    "Modifier `γ` afin d'obtenir un contrôle non bang-bang, i.e. `ẋ` n'est pas linéaire en `u`."
   ]
  },
  {
   "cell_type": "code",
   "execution_count": null,
   "metadata": {},
   "outputs": [],
   "source": [
    "..."
   ]
  },
  {
   "cell_type": "markdown",
   "metadata": {},
   "source": [
    "### Question 3: Un contrôle non bang-bang\n",
    "Proposer une modification continue de ẋ de manière à déterminer un contrôle qui n'est plus bang-bang.\n",
    "Afficher les graphiques obtenus.\n",
    "`T, x0` et `n` sont identiques à précédemment."
   ]
  },
  {
   "cell_type": "code",
   "execution_count": null,
   "metadata": {},
   "outputs": [],
   "source": [
    "T = ...\n",
    "# γ = ...\n",
    "x0 = ...\n",
    "\n",
    "@def ocp begin\n",
    "  tf ∈ R, variable\n",
    "  t ∈ [ 0, ... ], time\n",
    "  x ...\n",
    "  u ...\n",
    "  ... ≤ u(t) ≤ ...\n",
    "  \n",
    "  x(0) == ...\n",
    "  ẋ(t) == ... # le nouveau γ peut être défini ici directement, et ainsi varier en fonction de t, i.e. γ(t)\n",
    "\n",
    "  ∫(...) → max\n",
    "end\n",
    "\n",
    "n = ...\n",
    "docp = DirectTranscription(ocp, grid_size=n) "
   ]
  },
  {
   "cell_type": "code",
   "execution_count": null,
   "metadata": {},
   "outputs": [],
   "source": [
    "sol = ...(docp) # résout le problème via Ipopt\n",
    "...(sol)"
   ]
  },
  {
   "cell_type": "markdown",
   "metadata": {},
   "source": [
    "## Exercice 2: Le réservoir\n",
    "\n",
    "Dans ce dernier exercice, on considère le problème de réservoir (exercice 5 control.pdf):.\n",
    "\n",
    "$$\n",
    "\\max_{x_1,x_2,u} x_2(T), \\quad \\dot{x_1} = -x_1 + u, \\dot{x_2} = x_1, x_1(0) = x_2(0) = 0, x_1(1)=γ, x_1(t)\\leq γ\n",
    "$$\n",
    "Compléter le code suivant en considérant $n=10$ et $γ = 0.5$."
   ]
  },
  {
   "cell_type": "code",
   "execution_count": null,
   "metadata": {},
   "outputs": [],
   "source": [
    "T = ...\n",
    "γ = ...\n",
    "\n",
    "@def ocp begin\n",
    "  tf ∈ R, variable\n",
    "  t ∈ [0, ...], time\n",
    "  x ...\n",
    "  u ...\n",
    "  ... ≤ u(t) ≤ ...\n",
    "  \n",
    "  x(0) == [...]\n",
    "  ẋ(t) == [...]\n",
    "  x₁(T) == ...\n",
    "\n",
    "  ... → ...\n",
    "end\n",
    "\n",
    "n = ...\n",
    "docp = DirectTranscription(ocp, grid_size=n)\n",
    "nlp = getNLP(docp)"
   ]
  },
  {
   "cell_type": "markdown",
   "metadata": {},
   "source": [
    "Résoudre et afficher le problème"
   ]
  },
  {
   "cell_type": "code",
   "execution_count": null,
   "metadata": {},
   "outputs": [],
   "source": [
    "sol = ...(docp) # résout le problème via Ipopt\n",
    "...(sol)"
   ]
  },
  {
   "cell_type": "code",
   "execution_count": null,
   "metadata": {},
   "outputs": [],
   "source": [
    "nlp = getNLP(docp)\n",
    "sol = CTDirect._OptimalControlSolution(ges, docp)\n",
    "fig = plot(sol)"
   ]
  },
  {
   "cell_type": "markdown",
   "metadata": {},
   "source": [
    "### Question: Convergence en n"
   ]
  },
  {
   "cell_type": "markdown",
   "metadata": {},
   "source": [
    "Recommencer le processus pour observer la convergence du contrôle pour plusieurs valeurs de n (100, 500, 1000)."
   ]
  },
  {
   "cell_type": "code",
   "execution_count": null,
   "metadata": {},
   "outputs": [],
   "source": []
  },
  {
   "cell_type": "markdown",
   "metadata": {},
   "source": [
    "## Exercice 3: Git/Github, Pull request, OptimizationProblems\n",
    "\n",
    "L'objectif de cet exercice est d'intégrer le problème que vous avez développé dans la question 3 (Un contrôle non bang-bang) au dépôt https://github.com/paraynaud/OptimizationProblems.jl en ouvrant une \"Pull Request\".\n",
    "\n",
    "A tout moment, n'hésitez pas à demander de l'aide sur Zulip sur cette partie."
   ]
  },
  {
   "cell_type": "markdown",
   "metadata": {},
   "source": [
    "### Etape 1: Clone & fork (similaire aux laboratoires précédents)\n",
    "\n",
    "Afin de faire une proposition de modification au package `paraynaud/OptimizationProblems.jl` vous allez devoir \"cloner\" ce package sur votre compte github et ouvrir une nouvelle branche où ajouter la modification.\n",
    "\n",
    "- [ ] Aller sur https://github.com/paraynaud/OptimizationProblems.jl et cliquer sur \"Fork\" en haut à droite de l'écran.\n",
    "- [ ] En suivant les indications du README du lab1 et clonez la version sur votre compte github.\n",
    "- [ ] En suivant les inditions du README du lab2 et ouvrez une nouvelle branche de travail. (en général on essaye d'éviter de travailler directement sur la branche `main`)."
   ]
  },
  {
   "cell_type": "markdown",
   "metadata": {},
   "source": [
    "### Etape 2: Compléter l'implémentation des problèmes\n",
    "\n",
    "Lisez la documentation du package OptimizationProblems.jl, https://juliasmoothoptimizers.github.io/OptimizationProblems.jl/dev/contributing/, particulièrement la section \"Templates for the new functions\".\n",
    "\n",
    "Pour créer votre problème, ajouter un fichier `<votre_nom>.jl` dans le sous-répertoire `src/ADNLPProblems/`.\n",
    "Dans ce fichier, vous devez ajouter la formulation de votre problème de la question 3, en conservant `n` comme un argument optionnel, mis à `10` par défaut.\n",
    "\n",
    "Il est fort probable qu'en plus de votre fichier `src/ADNLPProblems/<votre_nom>.jl`, vous modifiez le fichier `Project.toml` lors de l'ajout des modules OptimalControl.jl et CTDirect.jl, ce n'est pas un problème."
   ]
  },
  {
   "cell_type": "markdown",
   "metadata": {},
   "source": [
    "### Etape 3: Modifier le package et mise en ligne\n",
    "- [ ] Une fois les modifications satisfaisantes faire un `git push origin nom_de_votre_branch` pour mettre en ligne vos modifications.\n",
    "- [ ] Ouvrir la Pull Request vers paraynaud/OptimizationProblems.jl **et non JuliaSmoothOptimizers/OptimizationProblems.jl** !!!"
   ]
  }
 ],
 "metadata": {
  "@webio": {
   "lastCommId": null,
   "lastKernelId": null
  },
  "kernelspec": {
   "display_name": "Julia 1.7.0",
   "language": "julia",
   "name": "julia-1.7"
  },
  "language_info": {
   "file_extension": ".jl",
   "mimetype": "application/julia",
   "name": "julia",
   "version": "1.7.0"
  }
 },
 "nbformat": 4,
 "nbformat_minor": 4
}
